{
  "nbformat": 4,
  "nbformat_minor": 0,
  "metadata": {
    "colab": {
      "name": "Untitled34.ipynb",
      "provenance": [],
      "authorship_tag": "ABX9TyN74ARWOb3Kw0TfeB9v9iH3",
      "include_colab_link": true
    },
    "kernelspec": {
      "name": "python3",
      "display_name": "Python 3"
    },
    "accelerator": "TPU"
  },
  "cells": [
    {
      "cell_type": "markdown",
      "metadata": {
        "id": "view-in-github",
        "colab_type": "text"
      },
      "source": [
        "<a href=\"https://colab.research.google.com/github/CREVIOS/ML-Classification/blob/master/cat-dog-class-1.ipynb\" target=\"_parent\"><img src=\"https://colab.research.google.com/assets/colab-badge.svg\" alt=\"Open In Colab\"/></a>"
      ]
    },
    {
      "cell_type": "code",
      "metadata": {
        "id": "oprmoDF59J7B",
        "colab_type": "code",
        "colab": {}
      },
      "source": [
        "import zipfile\n",
        "import tensorflow as tf\n",
        "from tensorflow.keras.optimizers import RMSprop\n",
        "from tensorflow.keras.preprocessing.image import ImageDataGenerator\n"
      ],
      "execution_count": 1,
      "outputs": []
    },
    {
      "cell_type": "code",
      "metadata": {
        "id": "JrtHwvVD9iMD",
        "colab_type": "code",
        "colab": {
          "base_uri": "https://localhost:8080/",
          "height": 204
        },
        "outputId": "c0fafa55-e7ef-42bc-9b92-5bb8b11a5ab3"
      },
      "source": [
        "!wget https://storage.googleapis.com/mledu-datasets/cats_and_dogs_filtered.zip"
      ],
      "execution_count": 2,
      "outputs": [
        {
          "output_type": "stream",
          "text": [
            "--2020-07-19 16:53:19--  https://storage.googleapis.com/mledu-datasets/cats_and_dogs_filtered.zip\n",
            "Resolving storage.googleapis.com (storage.googleapis.com)... 74.125.69.128, 173.194.74.128, 209.85.200.128, ...\n",
            "Connecting to storage.googleapis.com (storage.googleapis.com)|74.125.69.128|:443... connected.\n",
            "HTTP request sent, awaiting response... 200 OK\n",
            "Length: 68606236 (65M) [application/zip]\n",
            "Saving to: ‘cats_and_dogs_filtered.zip’\n",
            "\n",
            "cats_and_dogs_filte 100%[===================>]  65.43M   160MB/s    in 0.4s    \n",
            "\n",
            "2020-07-19 16:53:20 (160 MB/s) - ‘cats_and_dogs_filtered.zip’ saved [68606236/68606236]\n",
            "\n"
          ],
          "name": "stdout"
        }
      ]
    },
    {
      "cell_type": "code",
      "metadata": {
        "id": "IgHqW65T9rte",
        "colab_type": "code",
        "colab": {}
      },
      "source": [
        "local_zip = 'cats_and_dogs_filtered.zip'\n",
        "zip_ref = zipfile.ZipFile(local_zip, 'r')\n",
        "zip_ref.extractall('')\n",
        "zip_ref.close()\n",
        "\n",
        "base_dir = 'cats_and_dogs_filtered'\n",
        "train_dir = 'cats_and_dogs_filtered/train'\n",
        "validation_dir = 'cats_and_dogs_filtered/validation'\n",
        "\n",
        "# Directory with our training cat pictures\n",
        "train_cats_dir = 'cats_and_dogs_filtered/train/cats'\n",
        "\n",
        "# Directory with our training dog pictures\n",
        "train_dogs_dir = 'cats_and_dogs_filtered/train/dogs'\n",
        "\n",
        "# Directory with our validation cat pictures\n",
        "validation_cats_dir = 'cats_and_dogs_filtered/validation/cats'\n",
        "\n",
        "# Directory with our validation dog pictures\n",
        "validation_dogs_dir = 'cats_and_dogs_filtered/validation/dogs'"
      ],
      "execution_count": 3,
      "outputs": []
    },
    {
      "cell_type": "code",
      "metadata": {
        "id": "9GjGppGU-qIA",
        "colab_type": "code",
        "colab": {}
      },
      "source": [
        "model = tf.keras.models.Sequential([\n",
        "    # Note the input shape is the desired size of the image 150x150 with 3 bytes color\n",
        "    # This is the first convolution\n",
        "    tf.keras.layers.Conv2D(32, (3,3), activation='relu', input_shape=(150, 150, 3)),\n",
        "    tf.keras.layers.MaxPooling2D(2, 2),\n",
        "    # The second convolution\n",
        "    tf.keras.layers.Conv2D(64, (3,3), activation='relu'),\n",
        "    tf.keras.layers.MaxPooling2D(2,2),\n",
        "    # The third convolution\n",
        "    tf.keras.layers.Conv2D(128, (3,3), activation='relu'),\n",
        "    tf.keras.layers.MaxPooling2D(2,2),\n",
        "    # The fourth convolution\n",
        "    tf.keras.layers.Conv2D(128, (3,3), activation='relu'),\n",
        "    tf.keras.layers.MaxPooling2D(2,2),\n",
        "    # Flatten the results to feed into a DNN\n",
        "    tf.keras.layers.Flatten(),\n",
        "    # 512 neuron hidden layer\n",
        "    tf.keras.layers.Dense(512, activation='relu'),\n",
        "    # Only 1 output neuron. It will contain a value from 0-1 where 0 for 1 class and 1 for the other\n",
        "    tf.keras.layers.Dense(1, activation='sigmoid')\n",
        "])"
      ],
      "execution_count": 4,
      "outputs": []
    },
    {
      "cell_type": "code",
      "metadata": {
        "id": "DNM7iNH3-vwF",
        "colab_type": "code",
        "colab": {
          "base_uri": "https://localhost:8080/",
          "height": 527
        },
        "outputId": "32fb4c51-5ba0-45a5-dc1b-199548179bcb"
      },
      "source": [
        "model.summary()"
      ],
      "execution_count": 5,
      "outputs": [
        {
          "output_type": "stream",
          "text": [
            "Model: \"sequential\"\n",
            "_________________________________________________________________\n",
            "Layer (type)                 Output Shape              Param #   \n",
            "=================================================================\n",
            "conv2d (Conv2D)              (None, 148, 148, 32)      896       \n",
            "_________________________________________________________________\n",
            "max_pooling2d (MaxPooling2D) (None, 74, 74, 32)        0         \n",
            "_________________________________________________________________\n",
            "conv2d_1 (Conv2D)            (None, 72, 72, 64)        18496     \n",
            "_________________________________________________________________\n",
            "max_pooling2d_1 (MaxPooling2 (None, 36, 36, 64)        0         \n",
            "_________________________________________________________________\n",
            "conv2d_2 (Conv2D)            (None, 34, 34, 128)       73856     \n",
            "_________________________________________________________________\n",
            "max_pooling2d_2 (MaxPooling2 (None, 17, 17, 128)       0         \n",
            "_________________________________________________________________\n",
            "conv2d_3 (Conv2D)            (None, 15, 15, 128)       147584    \n",
            "_________________________________________________________________\n",
            "max_pooling2d_3 (MaxPooling2 (None, 7, 7, 128)         0         \n",
            "_________________________________________________________________\n",
            "flatten (Flatten)            (None, 6272)              0         \n",
            "_________________________________________________________________\n",
            "dense (Dense)                (None, 512)               3211776   \n",
            "_________________________________________________________________\n",
            "dense_1 (Dense)              (None, 1)                 513       \n",
            "=================================================================\n",
            "Total params: 3,453,121\n",
            "Trainable params: 3,453,121\n",
            "Non-trainable params: 0\n",
            "_________________________________________________________________\n"
          ],
          "name": "stdout"
        }
      ]
    },
    {
      "cell_type": "code",
      "metadata": {
        "id": "h020BHhg-0LV",
        "colab_type": "code",
        "colab": {}
      },
      "source": [
        "model.compile(loss='binary_crossentropy',\n",
        "              optimizer=RMSprop(lr=1e-4),\n",
        "              metrics=['acc'])"
      ],
      "execution_count": 6,
      "outputs": []
    },
    {
      "cell_type": "code",
      "metadata": {
        "id": "vf3KgNo6-4zd",
        "colab_type": "code",
        "colab": {}
      },
      "source": [
        "train_datagen = ImageDataGenerator(rescale=1./255)\n",
        "test_datagen = ImageDataGenerator(rescale=1./255)"
      ],
      "execution_count": 7,
      "outputs": []
    },
    {
      "cell_type": "code",
      "metadata": {
        "id": "6QXJ8WAq-8mO",
        "colab_type": "code",
        "colab": {
          "base_uri": "https://localhost:8080/",
          "height": 51
        },
        "outputId": "4d12fcc7-5beb-4f7c-b79b-8c30ba1d36cc"
      },
      "source": [
        "# Flow training images in batches of 20 using train_datagen generator\n",
        "train_generator = train_datagen.flow_from_directory(\n",
        "        train_dir,  # This is the source directory for training images\n",
        "        target_size=(150, 150),  # All images will be resized to 150x150\n",
        "        batch_size=20,\n",
        "        # Since we use binary_crossentropy loss, we need binary labels\n",
        "        class_mode='binary')\n",
        "\n",
        "# Flow validation images in batches of 20 using test_datagen generator\n",
        "validation_generator = test_datagen.flow_from_directory(\n",
        "        validation_dir,\n",
        "        target_size=(150, 150),\n",
        "        batch_size=20,\n",
        "        class_mode='binary')\n"
      ],
      "execution_count": 8,
      "outputs": [
        {
          "output_type": "stream",
          "text": [
            "Found 2000 images belonging to 2 classes.\n",
            "Found 1000 images belonging to 2 classes.\n"
          ],
          "name": "stdout"
        }
      ]
    },
    {
      "cell_type": "code",
      "metadata": {
        "id": "MFJlWb6a-_oV",
        "colab_type": "code",
        "colab": {
          "base_uri": "https://localhost:8080/",
          "height": 1000
        },
        "outputId": "d0b398aa-b200-40b8-c28c-75d202f435ba"
      },
      "source": [
        "\n",
        "history = model.fit_generator(\n",
        "      train_generator,\n",
        "      steps_per_epoch=100,  # 2000 images = batch_size * steps\n",
        "      epochs=100,\n",
        "      validation_data=validation_generator,\n",
        "      validation_steps=50,  # 1000 images = batch_size * steps\n",
        "      verbose=2)"
      ],
      "execution_count": 9,
      "outputs": [
        {
          "output_type": "stream",
          "text": [
            "WARNING:tensorflow:From <ipython-input-9-ca37c4672f69>:8: Model.fit_generator (from tensorflow.python.keras.engine.training) is deprecated and will be removed in a future version.\n",
            "Instructions for updating:\n",
            "Please use Model.fit, which supports generators.\n",
            "Epoch 1/100\n",
            "100/100 - 92s - loss: 0.6909 - acc: 0.5315 - val_loss: 0.6787 - val_acc: 0.5200\n",
            "Epoch 2/100\n",
            "100/100 - 92s - loss: 0.6644 - acc: 0.5860 - val_loss: 0.6926 - val_acc: 0.5500\n",
            "Epoch 3/100\n",
            "100/100 - 92s - loss: 0.6311 - acc: 0.6380 - val_loss: 0.6166 - val_acc: 0.6670\n",
            "Epoch 4/100\n",
            "100/100 - 93s - loss: 0.5894 - acc: 0.6845 - val_loss: 0.5870 - val_acc: 0.6950\n",
            "Epoch 5/100\n",
            "100/100 - 93s - loss: 0.5502 - acc: 0.7240 - val_loss: 0.6794 - val_acc: 0.6110\n",
            "Epoch 6/100\n",
            "100/100 - 93s - loss: 0.5223 - acc: 0.7345 - val_loss: 0.5991 - val_acc: 0.6680\n",
            "Epoch 7/100\n",
            "100/100 - 93s - loss: 0.4950 - acc: 0.7550 - val_loss: 0.5699 - val_acc: 0.7010\n",
            "Epoch 8/100\n",
            "100/100 - 92s - loss: 0.4647 - acc: 0.7770 - val_loss: 0.5504 - val_acc: 0.7170\n",
            "Epoch 9/100\n",
            "100/100 - 93s - loss: 0.4364 - acc: 0.7940 - val_loss: 0.5333 - val_acc: 0.7450\n",
            "Epoch 10/100\n",
            "100/100 - 93s - loss: 0.4071 - acc: 0.8145 - val_loss: 0.5680 - val_acc: 0.7010\n",
            "Epoch 11/100\n",
            "100/100 - 93s - loss: 0.3851 - acc: 0.8230 - val_loss: 0.5649 - val_acc: 0.7170\n",
            "Epoch 12/100\n",
            "100/100 - 93s - loss: 0.3615 - acc: 0.8405 - val_loss: 0.5527 - val_acc: 0.7520\n",
            "Epoch 13/100\n",
            "100/100 - 93s - loss: 0.3393 - acc: 0.8490 - val_loss: 0.5491 - val_acc: 0.7280\n",
            "Epoch 14/100\n",
            "100/100 - 93s - loss: 0.3253 - acc: 0.8590 - val_loss: 0.5640 - val_acc: 0.7350\n",
            "Epoch 15/100\n",
            "100/100 - 93s - loss: 0.2879 - acc: 0.8820 - val_loss: 0.5857 - val_acc: 0.7390\n",
            "Epoch 16/100\n",
            "100/100 - 93s - loss: 0.2719 - acc: 0.8875 - val_loss: 0.5835 - val_acc: 0.7430\n",
            "Epoch 17/100\n",
            "100/100 - 93s - loss: 0.2459 - acc: 0.8975 - val_loss: 0.5720 - val_acc: 0.7490\n",
            "Epoch 18/100\n",
            "100/100 - 93s - loss: 0.2223 - acc: 0.9135 - val_loss: 0.6392 - val_acc: 0.7320\n",
            "Epoch 19/100\n",
            "100/100 - 93s - loss: 0.2024 - acc: 0.9255 - val_loss: 0.6184 - val_acc: 0.7440\n",
            "Epoch 20/100\n",
            "100/100 - 92s - loss: 0.1843 - acc: 0.9280 - val_loss: 0.5852 - val_acc: 0.7480\n",
            "Epoch 21/100\n",
            "100/100 - 93s - loss: 0.1589 - acc: 0.9425 - val_loss: 0.7091 - val_acc: 0.7370\n",
            "Epoch 22/100\n",
            "100/100 - 92s - loss: 0.1556 - acc: 0.9405 - val_loss: 0.6257 - val_acc: 0.7480\n",
            "Epoch 23/100\n",
            "100/100 - 93s - loss: 0.1274 - acc: 0.9590 - val_loss: 0.7277 - val_acc: 0.7420\n",
            "Epoch 24/100\n",
            "100/100 - 93s - loss: 0.1182 - acc: 0.9575 - val_loss: 0.6686 - val_acc: 0.7430\n",
            "Epoch 25/100\n",
            "100/100 - 93s - loss: 0.0913 - acc: 0.9725 - val_loss: 0.7184 - val_acc: 0.7560\n",
            "Epoch 26/100\n",
            "100/100 - 92s - loss: 0.0784 - acc: 0.9765 - val_loss: 0.7674 - val_acc: 0.7390\n",
            "Epoch 27/100\n",
            "100/100 - 92s - loss: 0.0739 - acc: 0.9765 - val_loss: 0.8096 - val_acc: 0.7530\n",
            "Epoch 28/100\n",
            "100/100 - 96s - loss: 0.0635 - acc: 0.9805 - val_loss: 0.9865 - val_acc: 0.7220\n",
            "Epoch 29/100\n",
            "100/100 - 93s - loss: 0.0521 - acc: 0.9865 - val_loss: 0.9307 - val_acc: 0.7200\n",
            "Epoch 30/100\n",
            "100/100 - 93s - loss: 0.0455 - acc: 0.9890 - val_loss: 0.9232 - val_acc: 0.7300\n",
            "Epoch 31/100\n",
            "100/100 - 93s - loss: 0.0407 - acc: 0.9890 - val_loss: 0.9668 - val_acc: 0.7420\n",
            "Epoch 32/100\n",
            "100/100 - 93s - loss: 0.0327 - acc: 0.9920 - val_loss: 0.9811 - val_acc: 0.7360\n",
            "Epoch 33/100\n",
            "100/100 - 93s - loss: 0.0293 - acc: 0.9910 - val_loss: 0.9448 - val_acc: 0.7350\n",
            "Epoch 34/100\n",
            "100/100 - 92s - loss: 0.0300 - acc: 0.9915 - val_loss: 1.1366 - val_acc: 0.7350\n",
            "Epoch 35/100\n",
            "100/100 - 97s - loss: 0.0194 - acc: 0.9950 - val_loss: 0.9964 - val_acc: 0.7510\n",
            "Epoch 36/100\n",
            "100/100 - 93s - loss: 0.0209 - acc: 0.9945 - val_loss: 1.0562 - val_acc: 0.7420\n",
            "Epoch 37/100\n",
            "100/100 - 93s - loss: 0.0144 - acc: 0.9965 - val_loss: 1.1787 - val_acc: 0.7350\n",
            "Epoch 38/100\n",
            "100/100 - 93s - loss: 0.0198 - acc: 0.9945 - val_loss: 1.1362 - val_acc: 0.7440\n",
            "Epoch 39/100\n",
            "100/100 - 93s - loss: 0.0132 - acc: 0.9960 - val_loss: 1.1624 - val_acc: 0.7470\n",
            "Epoch 40/100\n",
            "100/100 - 93s - loss: 0.0108 - acc: 0.9980 - val_loss: 1.2461 - val_acc: 0.7370\n",
            "Epoch 41/100\n",
            "100/100 - 93s - loss: 0.0090 - acc: 0.9975 - val_loss: 1.2705 - val_acc: 0.7450\n",
            "Epoch 42/100\n",
            "100/100 - 93s - loss: 0.0146 - acc: 0.9950 - val_loss: 1.2988 - val_acc: 0.7430\n",
            "Epoch 43/100\n",
            "100/100 - 93s - loss: 0.0067 - acc: 0.9980 - val_loss: 1.3593 - val_acc: 0.7450\n",
            "Epoch 44/100\n",
            "100/100 - 93s - loss: 0.0170 - acc: 0.9965 - val_loss: 1.4025 - val_acc: 0.7340\n",
            "Epoch 45/100\n",
            "100/100 - 93s - loss: 0.0111 - acc: 0.9970 - val_loss: 1.4880 - val_acc: 0.7360\n",
            "Epoch 46/100\n",
            "100/100 - 93s - loss: 0.0098 - acc: 0.9975 - val_loss: 1.3667 - val_acc: 0.7470\n",
            "Epoch 47/100\n",
            "100/100 - 93s - loss: 0.0106 - acc: 0.9975 - val_loss: 1.4586 - val_acc: 0.7400\n",
            "Epoch 48/100\n",
            "100/100 - 93s - loss: 0.0124 - acc: 0.9960 - val_loss: 1.4184 - val_acc: 0.7330\n",
            "Epoch 49/100\n",
            "100/100 - 93s - loss: 0.0097 - acc: 0.9970 - val_loss: 1.4222 - val_acc: 0.7440\n",
            "Epoch 50/100\n",
            "100/100 - 93s - loss: 0.0097 - acc: 0.9980 - val_loss: 1.4266 - val_acc: 0.7560\n",
            "Epoch 51/100\n",
            "100/100 - 93s - loss: 0.0040 - acc: 0.9990 - val_loss: 1.5805 - val_acc: 0.7400\n",
            "Epoch 52/100\n",
            "100/100 - 93s - loss: 0.0091 - acc: 0.9970 - val_loss: 1.5252 - val_acc: 0.7350\n",
            "Epoch 53/100\n",
            "100/100 - 93s - loss: 0.0032 - acc: 0.9990 - val_loss: 1.6429 - val_acc: 0.7420\n",
            "Epoch 54/100\n",
            "100/100 - 93s - loss: 0.0088 - acc: 0.9980 - val_loss: 1.6715 - val_acc: 0.7480\n",
            "Epoch 55/100\n",
            "100/100 - 93s - loss: 0.0065 - acc: 0.9980 - val_loss: 1.6611 - val_acc: 0.7510\n",
            "Epoch 56/100\n",
            "100/100 - 93s - loss: 0.0163 - acc: 0.9955 - val_loss: 1.6436 - val_acc: 0.7500\n",
            "Epoch 57/100\n",
            "100/100 - 93s - loss: 0.0040 - acc: 0.9980 - val_loss: 1.6959 - val_acc: 0.7460\n",
            "Epoch 58/100\n",
            "100/100 - 93s - loss: 0.0084 - acc: 0.9955 - val_loss: 1.7412 - val_acc: 0.7410\n",
            "Epoch 59/100\n",
            "100/100 - 93s - loss: 0.0098 - acc: 0.9970 - val_loss: 1.6421 - val_acc: 0.7380\n",
            "Epoch 60/100\n",
            "100/100 - 93s - loss: 0.0074 - acc: 0.9970 - val_loss: 1.7023 - val_acc: 0.7410\n",
            "Epoch 61/100\n",
            "100/100 - 93s - loss: 0.0108 - acc: 0.9975 - val_loss: 1.7928 - val_acc: 0.7410\n",
            "Epoch 62/100\n",
            "100/100 - 93s - loss: 0.0099 - acc: 0.9970 - val_loss: 1.7560 - val_acc: 0.7470\n",
            "Epoch 63/100\n",
            "100/100 - 93s - loss: 0.0092 - acc: 0.9970 - val_loss: 1.7421 - val_acc: 0.7400\n",
            "Epoch 64/100\n",
            "100/100 - 93s - loss: 0.0077 - acc: 0.9975 - val_loss: 1.8878 - val_acc: 0.7360\n",
            "Epoch 65/100\n",
            "100/100 - 93s - loss: 0.0125 - acc: 0.9965 - val_loss: 1.7604 - val_acc: 0.7480\n",
            "Epoch 66/100\n",
            "100/100 - 93s - loss: 0.0026 - acc: 0.9995 - val_loss: 1.9154 - val_acc: 0.7390\n",
            "Epoch 67/100\n",
            "100/100 - 93s - loss: 0.0022 - acc: 0.9995 - val_loss: 2.0403 - val_acc: 0.7320\n",
            "Epoch 68/100\n",
            "100/100 - 93s - loss: 0.0020 - acc: 0.9995 - val_loss: 2.0603 - val_acc: 0.7340\n",
            "Epoch 69/100\n",
            "100/100 - 93s - loss: 0.0032 - acc: 0.9985 - val_loss: 1.8546 - val_acc: 0.7360\n",
            "Epoch 70/100\n",
            "100/100 - 93s - loss: 0.0169 - acc: 0.9975 - val_loss: 1.8956 - val_acc: 0.7460\n",
            "Epoch 71/100\n",
            "100/100 - 93s - loss: 0.0037 - acc: 0.9980 - val_loss: 1.8640 - val_acc: 0.7410\n",
            "Epoch 72/100\n",
            "100/100 - 93s - loss: 0.0029 - acc: 0.9995 - val_loss: 1.8657 - val_acc: 0.7380\n",
            "Epoch 73/100\n",
            "100/100 - 93s - loss: 0.0158 - acc: 0.9970 - val_loss: 1.9359 - val_acc: 0.7520\n",
            "Epoch 74/100\n",
            "100/100 - 93s - loss: 0.0053 - acc: 0.9980 - val_loss: 1.8436 - val_acc: 0.7500\n",
            "Epoch 75/100\n",
            "100/100 - 93s - loss: 0.0031 - acc: 0.9985 - val_loss: 2.3159 - val_acc: 0.7160\n",
            "Epoch 76/100\n",
            "100/100 - 93s - loss: 0.0072 - acc: 0.9985 - val_loss: 1.8759 - val_acc: 0.7280\n",
            "Epoch 77/100\n",
            "100/100 - 93s - loss: 1.3836e-04 - acc: 1.0000 - val_loss: 2.0183 - val_acc: 0.7440\n",
            "Epoch 78/100\n",
            "100/100 - 93s - loss: 0.0059 - acc: 0.9990 - val_loss: 2.3282 - val_acc: 0.7210\n",
            "Epoch 79/100\n",
            "100/100 - 93s - loss: 0.0088 - acc: 0.9975 - val_loss: 3.2738 - val_acc: 0.6680\n",
            "Epoch 80/100\n",
            "100/100 - 93s - loss: 9.6601e-04 - acc: 0.9995 - val_loss: 2.1307 - val_acc: 0.7520\n",
            "Epoch 81/100\n",
            "100/100 - 93s - loss: 0.0054 - acc: 0.9980 - val_loss: 2.1297 - val_acc: 0.7320\n",
            "Epoch 82/100\n",
            "100/100 - 96s - loss: 0.0026 - acc: 0.9990 - val_loss: 2.1672 - val_acc: 0.7400\n",
            "Epoch 83/100\n",
            "100/100 - 93s - loss: 0.0024 - acc: 0.9990 - val_loss: 2.1756 - val_acc: 0.7440\n",
            "Epoch 84/100\n",
            "100/100 - 94s - loss: 7.2109e-05 - acc: 1.0000 - val_loss: 2.2314 - val_acc: 0.7520\n",
            "Epoch 85/100\n",
            "100/100 - 93s - loss: 0.0071 - acc: 0.9980 - val_loss: 2.2614 - val_acc: 0.7330\n",
            "Epoch 86/100\n",
            "100/100 - 93s - loss: 0.0100 - acc: 0.9980 - val_loss: 2.2290 - val_acc: 0.7400\n",
            "Epoch 87/100\n",
            "100/100 - 93s - loss: 5.1058e-05 - acc: 1.0000 - val_loss: 2.2255 - val_acc: 0.7410\n",
            "Epoch 88/100\n",
            "100/100 - 99s - loss: 0.0080 - acc: 0.9980 - val_loss: 2.3909 - val_acc: 0.7490\n",
            "Epoch 89/100\n",
            "100/100 - 93s - loss: 1.3662e-05 - acc: 1.0000 - val_loss: 2.3076 - val_acc: 0.7430\n",
            "Epoch 90/100\n",
            "100/100 - 93s - loss: 0.0082 - acc: 0.9970 - val_loss: 2.2755 - val_acc: 0.7360\n",
            "Epoch 91/100\n",
            "100/100 - 93s - loss: 2.5299e-05 - acc: 1.0000 - val_loss: 2.4385 - val_acc: 0.7430\n",
            "Epoch 92/100\n",
            "100/100 - 93s - loss: 0.0059 - acc: 0.9975 - val_loss: 2.4517 - val_acc: 0.7240\n",
            "Epoch 93/100\n",
            "100/100 - 93s - loss: 2.3397e-05 - acc: 1.0000 - val_loss: 2.4638 - val_acc: 0.7360\n",
            "Epoch 94/100\n",
            "100/100 - 94s - loss: 0.0035 - acc: 0.9990 - val_loss: 2.3735 - val_acc: 0.7350\n",
            "Epoch 95/100\n",
            "100/100 - 93s - loss: 0.0186 - acc: 0.9950 - val_loss: 2.3750 - val_acc: 0.7320\n",
            "Epoch 96/100\n",
            "100/100 - 93s - loss: 0.0065 - acc: 0.9985 - val_loss: 2.3814 - val_acc: 0.7350\n",
            "Epoch 97/100\n",
            "100/100 - 93s - loss: 0.0119 - acc: 0.9965 - val_loss: 2.2520 - val_acc: 0.7380\n",
            "Epoch 98/100\n",
            "100/100 - 93s - loss: 7.2733e-04 - acc: 0.9995 - val_loss: 2.2000 - val_acc: 0.7450\n",
            "Epoch 99/100\n",
            "100/100 - 93s - loss: 4.9551e-04 - acc: 1.0000 - val_loss: 2.5185 - val_acc: 0.7400\n",
            "Epoch 100/100\n",
            "100/100 - 94s - loss: 0.0084 - acc: 0.9980 - val_loss: 2.3311 - val_acc: 0.7390\n"
          ],
          "name": "stdout"
        }
      ]
    },
    {
      "cell_type": "code",
      "metadata": {
        "id": "M6roK9xMj8no",
        "colab_type": "code",
        "colab": {}
      },
      "source": [
        "model.save('my_model.h5') "
      ],
      "execution_count": 12,
      "outputs": []
    },
    {
      "cell_type": "code",
      "metadata": {
        "id": "qs-15G9q_Gwc",
        "colab_type": "code",
        "colab": {
          "base_uri": "https://localhost:8080/",
          "height": 545
        },
        "outputId": "74f3800c-93f5-4976-8ca7-ce8a1396b7ea"
      },
      "source": [
        "\n",
        "import matplotlib.pyplot as plt\n",
        "acc = history.history['acc']\n",
        "val_acc = history.history['val_acc']\n",
        "loss = history.history['loss']\n",
        "val_loss = history.history['val_loss']\n",
        "\n",
        "epochs = range(len(acc))\n",
        "\n",
        "plt.plot(epochs, acc, 'bo', label='Training accuracy')\n",
        "plt.plot(epochs, val_acc, 'b', label='Validation accuracy')\n",
        "plt.title('Training and validation accuracy')\n",
        "\n",
        "plt.figure()\n",
        "\n",
        "plt.plot(epochs, loss, 'bo', label='Training Loss')\n",
        "plt.plot(epochs, val_loss, 'b', label='Validation Loss')\n",
        "plt.title('Training and validation loss')\n",
        "plt.legend()\n",
        "\n",
        "plt.show()"
      ],
      "execution_count": 10,
      "outputs": [
        {
          "output_type": "display_data",
          "data": {
            "image/png": "[encoded data removed]",
            "text/plain": [
              "<Figure size 432x288 with 1 Axes>"
            ]
          },
          "metadata": {
            "tags": [],
            "needs_background": "light"
          }
        },
        {
          "output_type": "display_data",
          "data": {
            "image/png": "[encoded data removed]",
            "text/plain": [
              "<Figure size 432x288 with 1 Axes>"
            ]
          },
          "metadata": {
            "tags": [],
            "needs_background": "light"
          }
        }
      ]
    },
    {
      "cell_type": "code",
      "metadata": {
        "id": "dkirnmT3j9VJ",
        "colab_type": "code",
        "colab": {
          "resources": {
            "http://localhost:8080/nbextensions/google.colab/files.js": {
              "data": "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",
              "ok": true,
              "headers": [
                [
                  "content-type",
                  "application/javascript"
                ]
              ],
              "status": 200,
              "status_text": ""
            }
          },
          "base_uri": "https://localhost:8080/",
          "height": 123
        },
        "outputId": "43009ee0-c778-408c-e30e-4750903cdadf"
      },
      "source": [
        "\n",
        "import numpy as np\n",
        "from google.colab import files\n",
        "from keras.preprocessing import image\n",
        "\n",
        "uploaded = files.upload()\n",
        "\n",
        "for fn in uploaded.keys():\n",
        " \n",
        "  # predicting images\n",
        "  path = '/content/' + fn\n",
        "  img = image.load_img(path, target_size=(150, 150))\n",
        "  x = image.img_to_array(img)\n",
        "  x = np.expand_dims(x, axis=0)\n",
        "\n",
        "  images = np.vstack([x])\n",
        "  classes = model.predict(images, batch_size=10)\n",
        "  print(classes[0])\n",
        "  if classes[0]>0.5:\n",
        "    print(fn + \" is a dog\")\n",
        "  else:\n",
        "    print(fn + \" is a cat\")"
      ],
      "execution_count": 11,
      "outputs": [
        {
          "output_type": "stream",
          "text": [
            "Using TensorFlow backend.\n"
          ],
          "name": "stderr"
        },
        {
          "output_type": "display_data",
          "data": {
            "text/html": [
              "\n",
              "     <input type=\"file\" id=\"files-1156fd0f-2007-4754-8d57-190d4abb3623\" name=\"files[]\" multiple disabled\n",
              "        style=\"border:none\" />\n",
              "     <output id=\"result-1156fd0f-2007-4754-8d57-190d4abb3623\">\n",
              "      Upload widget is only available when the cell has been executed in the\n",
              "      current browser session. Please rerun this cell to enable.\n",
              "      </output>\n",
              "      <script src=\"/nbextensions/google.colab/files.js\"></script> "
            ],
            "text/plain": [
              "<IPython.core.display.HTML object>"
            ]
          },
          "metadata": {
            "tags": []
          }
        },
        {
          "output_type": "stream",
          "text": [
            "Saving _111434467_gettyimages-1143489763.jpg to _111434467_gettyimages-1143489763.jpg\n",
            "[0.]\n",
            "_111434467_gettyimages-1143489763.jpg is a cat\n"
          ],
          "name": "stdout"
        }
      ]
    }
  ]
}